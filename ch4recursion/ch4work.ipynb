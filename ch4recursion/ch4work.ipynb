{
 "cells": [
  {
   "cell_type": "code",
   "execution_count": 1,
   "metadata": {},
   "outputs": [
    {
     "name": "stdout",
     "output_type": "stream",
     "text": [
      "25\n"
     ]
    }
   ],
   "source": [
    "# calculating the  sum of a list of numbers\n",
    "# iterative solution\n",
    "\n",
    "def list_sum(num_list):\n",
    "    the_sum = 0\n",
    "    for x in num_list:\n",
    "        the_sum = the_sum + x\n",
    "    return the_sum\n",
    "\n",
    "print(list_sum([1,3,5,7,9]))"
   ]
  },
  {
   "cell_type": "code",
   "execution_count": 1,
   "metadata": {},
   "outputs": [],
   "source": [
    "def list_sum(num_list):\n",
    "    # base case, once we've narrowed it down to one problem\n",
    "    if len(num_list) == 1:\n",
    "        return num_list[0]\n",
    "    else:\n",
    "        # recursive case\n",
    "        return num_list[0] + list_sum(num_list[1:])"
   ]
  },
  {
   "cell_type": "code",
   "execution_count": 2,
   "metadata": {},
   "outputs": [
    {
     "ename": "TypeError",
     "evalue": "string indices must be integers",
     "output_type": "error",
     "traceback": [
      "\u001b[0;31m---------------------------------------------------------------------------\u001b[0m",
      "\u001b[0;31mTypeError\u001b[0m                                 Traceback (most recent call last)",
      "\u001b[1;32m/Users/patrickburke/repos/millerDSA/ch4recursion/ch4work.ipynb Cell 3\u001b[0m in \u001b[0;36m<cell line: 11>\u001b[0;34m()\u001b[0m\n\u001b[1;32m      <a href='vscode-notebook-cell:/Users/patrickburke/repos/millerDSA/ch4recursion/ch4work.ipynb#ch0000002?line=7'>8</a>\u001b[0m     \u001b[39melse\u001b[39;00m:        \n\u001b[1;32m      <a href='vscode-notebook-cell:/Users/patrickburke/repos/millerDSA/ch4recursion/ch4work.ipynb#ch0000002?line=8'>9</a>\u001b[0m         \u001b[39mreturn\u001b[39;00m to_str(n \u001b[39m/\u001b[39m base, base) \u001b[39m+\u001b[39m convert_string[n \u001b[39m%\u001b[39m base]\n\u001b[0;32m---> <a href='vscode-notebook-cell:/Users/patrickburke/repos/millerDSA/ch4recursion/ch4work.ipynb#ch0000002?line=10'>11</a>\u001b[0m \u001b[39mprint\u001b[39m(to_str(\u001b[39m1453\u001b[39;49m, \u001b[39m16\u001b[39;49m))\n",
      "\u001b[1;32m/Users/patrickburke/repos/millerDSA/ch4recursion/ch4work.ipynb Cell 3\u001b[0m in \u001b[0;36mto_str\u001b[0;34m(n, base)\u001b[0m\n\u001b[1;32m      <a href='vscode-notebook-cell:/Users/patrickburke/repos/millerDSA/ch4recursion/ch4work.ipynb#ch0000002?line=6'>7</a>\u001b[0m     \u001b[39mreturn\u001b[39;00m convert_string[n]\n\u001b[1;32m      <a href='vscode-notebook-cell:/Users/patrickburke/repos/millerDSA/ch4recursion/ch4work.ipynb#ch0000002?line=7'>8</a>\u001b[0m \u001b[39melse\u001b[39;00m:        \n\u001b[0;32m----> <a href='vscode-notebook-cell:/Users/patrickburke/repos/millerDSA/ch4recursion/ch4work.ipynb#ch0000002?line=8'>9</a>\u001b[0m     \u001b[39mreturn\u001b[39;00m to_str(n \u001b[39m/\u001b[39;49m base, base) \u001b[39m+\u001b[39m convert_string[n \u001b[39m%\u001b[39m base]\n",
      "\u001b[1;32m/Users/patrickburke/repos/millerDSA/ch4recursion/ch4work.ipynb Cell 3\u001b[0m in \u001b[0;36mto_str\u001b[0;34m(n, base)\u001b[0m\n\u001b[1;32m      <a href='vscode-notebook-cell:/Users/patrickburke/repos/millerDSA/ch4recursion/ch4work.ipynb#ch0000002?line=6'>7</a>\u001b[0m     \u001b[39mreturn\u001b[39;00m convert_string[n]\n\u001b[1;32m      <a href='vscode-notebook-cell:/Users/patrickburke/repos/millerDSA/ch4recursion/ch4work.ipynb#ch0000002?line=7'>8</a>\u001b[0m \u001b[39melse\u001b[39;00m:        \n\u001b[0;32m----> <a href='vscode-notebook-cell:/Users/patrickburke/repos/millerDSA/ch4recursion/ch4work.ipynb#ch0000002?line=8'>9</a>\u001b[0m     \u001b[39mreturn\u001b[39;00m to_str(n \u001b[39m/\u001b[39;49m base, base) \u001b[39m+\u001b[39m convert_string[n \u001b[39m%\u001b[39m base]\n",
      "\u001b[1;32m/Users/patrickburke/repos/millerDSA/ch4recursion/ch4work.ipynb Cell 3\u001b[0m in \u001b[0;36mto_str\u001b[0;34m(n, base)\u001b[0m\n\u001b[1;32m      <a href='vscode-notebook-cell:/Users/patrickburke/repos/millerDSA/ch4recursion/ch4work.ipynb#ch0000002?line=4'>5</a>\u001b[0m \u001b[39m# base case, when we've narrowed it down to a single digit\u001b[39;00m\n\u001b[1;32m      <a href='vscode-notebook-cell:/Users/patrickburke/repos/millerDSA/ch4recursion/ch4work.ipynb#ch0000002?line=5'>6</a>\u001b[0m \u001b[39mif\u001b[39;00m n \u001b[39m<\u001b[39m base:\n\u001b[0;32m----> <a href='vscode-notebook-cell:/Users/patrickburke/repos/millerDSA/ch4recursion/ch4work.ipynb#ch0000002?line=6'>7</a>\u001b[0m     \u001b[39mreturn\u001b[39;00m convert_string[n]\n\u001b[1;32m      <a href='vscode-notebook-cell:/Users/patrickburke/repos/millerDSA/ch4recursion/ch4work.ipynb#ch0000002?line=7'>8</a>\u001b[0m \u001b[39melse\u001b[39;00m:        \n\u001b[1;32m      <a href='vscode-notebook-cell:/Users/patrickburke/repos/millerDSA/ch4recursion/ch4work.ipynb#ch0000002?line=8'>9</a>\u001b[0m     \u001b[39mreturn\u001b[39;00m to_str(n \u001b[39m/\u001b[39m base, base) \u001b[39m+\u001b[39m convert_string[n \u001b[39m%\u001b[39m base]\n",
      "\u001b[0;31mTypeError\u001b[0m: string indices must be integers"
     ]
    }
   ],
   "source": []
  },
  {
   "cell_type": "markdown",
   "metadata": {},
   "source": []
  }
 ],
 "metadata": {
  "kernelspec": {
   "display_name": "Python 3.9.12 ('base')",
   "language": "python",
   "name": "python3"
  },
  "language_info": {
   "codemirror_mode": {
    "name": "ipython",
    "version": 3
   },
   "file_extension": ".py",
   "mimetype": "text/x-python",
   "name": "python",
   "nbconvert_exporter": "python",
   "pygments_lexer": "ipython3",
   "version": "3.9.12"
  },
  "orig_nbformat": 4,
  "vscode": {
   "interpreter": {
    "hash": "40203b3ec892d21f304b904bd7441b754322a8b95cad2515f623282baa87ac4b"
   }
  }
 },
 "nbformat": 4,
 "nbformat_minor": 2
}
