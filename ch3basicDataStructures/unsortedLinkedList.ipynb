{
 "cells": [
  {
   "cell_type": "code",
   "execution_count": 3,
   "metadata": {},
   "outputs": [],
   "source": [
    "# implementing a linked list -> the node class\n",
    "\n",
    "class Node:\n",
    "    def __init__(self, init_data):\n",
    "        # two attributes, the data contained in that node and the pointer to the next node\n",
    "        self.data = init_data\n",
    "        # pointer is initialized to null\n",
    "        self.next = None\n",
    "\n",
    "    # method to get the data\n",
    "    def get_data(self):\n",
    "        return self.data\n",
    "\n",
    "    # method to get next node\n",
    "    def get_next(self):\n",
    "        return self.next\n",
    "    \n",
    "    # method to set data\n",
    "    def set_data(self, new_data):\n",
    "        self.data = new_data\n",
    "\n",
    "    # method to set pointer to next node\n",
    "    def set_next(self, new_next):\n",
    "        self.next = new_next"
   ]
  },
  {
   "cell_type": "code",
   "execution_count": 4,
   "metadata": {},
   "outputs": [
    {
     "data": {
      "text/plain": [
       "93"
      ]
     },
     "execution_count": 4,
     "metadata": {},
     "output_type": "execute_result"
    }
   ],
   "source": [
    "# create a node object\n",
    "\n",
    "temp = Node(93)\n",
    "temp.get_data()"
   ]
  },
  {
   "cell_type": "code",
   "execution_count": 17,
   "metadata": {},
   "outputs": [],
   "source": [
    "# linked list class\n",
    "\n",
    "class LinkedList:\n",
    "    def __init__(self):\n",
    "        # this attribute is the head pointer initially set to point at null, there are no nodes yet\n",
    "        self.head = None\n",
    "\n",
    "\n",
    "    def is_empty(self):\n",
    "        # return boolean conditional on if the head pointer is pointed at null\n",
    "        return self.head == None\n",
    "\n",
    "\n",
    "    # very important here to set the new node pointer to head before resetting head, otherwise we lost the whole list\n",
    "    def add(self, item):\n",
    "        # create a new node, with item as its data, and a variable temp pointed at it so that we can reference it\n",
    "        temp = Node(item)\n",
    "        # set the pointer of our new node to the head of the current linked list\n",
    "        temp.set_next(self.head)\n",
    "        # change the head pointer to now point at the new first node, the one we just inserted\n",
    "        self.head = temp\n",
    "\n",
    "\n",
    "    # method to get the size of the linked list\n",
    "    def size(self):\n",
    "        current = self.head\n",
    "        count = 0\n",
    "        # use a pointer to iterate thru the list and count the nodes, we know that the last node points to null\n",
    "        while current != None:\n",
    "            count = count + 1\n",
    "            # since we're pointing at a node we can use the get_next node method to move the current pointer over to the next node\n",
    "            current = current.get_next()\n",
    "        return count\n",
    "\n",
    "    # method to search thru a list for a particular piece of data (item)\n",
    "    def search(self, item):\n",
    "        current = self.head\n",
    "        # default to false\n",
    "        found = False\n",
    "        # break when we've reached end of the list (pointed to null) or found has become true\n",
    "        while current != None and not found:\n",
    "            if current.get_data() == item:\n",
    "                found = True\n",
    "            else:\n",
    "                current = current.get_next()\n",
    "        return found\n",
    "\n",
    "\n",
    "\n",
    "    def remove(self, item):\n",
    "        current = self.head\n",
    "        previous = None\n",
    "        found = False\n",
    "        while not found:\n",
    "            if current.get_data() == item:\n",
    "                found = True\n",
    "            else:\n",
    "                previous = current\n",
    "                current = current.get_next()\n",
    "\n",
    "        if previous == None:\n",
    "            self.head = current.get_next()\n",
    "        else:\n",
    "            previous.set_next(current.get_next())"
   ]
  },
  {
   "cell_type": "code",
   "execution_count": 6,
   "metadata": {},
   "outputs": [],
   "source": [
    "# create new instance of a linked list\n",
    "my_list = LinkedList()\n",
    "\n",
    "# add a bunch of nodes\n",
    "my_list.add(1)\n",
    "my_list.add(2)\n",
    "my_list.add(3)\n",
    "my_list.add(4)\n",
    "my_list.add(5)"
   ]
  },
  {
   "cell_type": "code",
   "execution_count": 7,
   "metadata": {},
   "outputs": [
    {
     "data": {
      "text/plain": [
       "5"
      ]
     },
     "execution_count": 7,
     "metadata": {},
     "output_type": "execute_result"
    }
   ],
   "source": [
    "my_list.size()"
   ]
  },
  {
   "cell_type": "code",
   "execution_count": 8,
   "metadata": {},
   "outputs": [
    {
     "data": {
      "text/plain": [
       "False"
      ]
     },
     "execution_count": 8,
     "metadata": {},
     "output_type": "execute_result"
    }
   ],
   "source": [
    "my_list.is_empty()"
   ]
  },
  {
   "cell_type": "code",
   "execution_count": 18,
   "metadata": {},
   "outputs": [
    {
     "data": {
      "text/plain": [
       "5"
      ]
     },
     "execution_count": 18,
     "metadata": {},
     "output_type": "execute_result"
    }
   ],
   "source": [
    "# if we want to get the data from the head node, we refernce the head pointer \n",
    "# and then call the get data method on it\n",
    "\n",
    "my_list.head.get_data()"
   ]
  },
  {
   "cell_type": "code",
   "execution_count": 21,
   "metadata": {},
   "outputs": [
    {
     "name": "stdout",
     "output_type": "stream",
     "text": [
      "True\n",
      "False\n"
     ]
    }
   ],
   "source": [
    "print(my_list.search(3))\n",
    "print(my_list.search(8))"
   ]
  }
 ],
 "metadata": {
  "kernelspec": {
   "display_name": "Python 3.8.9 64-bit",
   "language": "python",
   "name": "python3"
  },
  "language_info": {
   "codemirror_mode": {
    "name": "ipython",
    "version": 3
   },
   "file_extension": ".py",
   "mimetype": "text/x-python",
   "name": "python",
   "nbconvert_exporter": "python",
   "pygments_lexer": "ipython3",
   "version": "3.8.9"
  },
  "orig_nbformat": 4,
  "vscode": {
   "interpreter": {
    "hash": "31f2aee4e71d21fbe5cf8b01ff0e069b9275f58929596ceb00d14d90e3e16cd6"
   }
  }
 },
 "nbformat": 4,
 "nbformat_minor": 2
}
