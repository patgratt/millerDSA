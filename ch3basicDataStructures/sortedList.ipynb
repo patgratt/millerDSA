{
 "cells": [
  {
   "cell_type": "code",
   "execution_count": null,
   "metadata": {},
   "outputs": [],
   "source": [
    "# implementing a linked list -> the node class\n",
    "class Node:\n",
    "    def __init__(self, init_data):\n",
    "        # two attributes, the data contained in that node and the pointer to the next node\n",
    "        self.data = init_data\n",
    "        # pointer is initialized to null\n",
    "        self.next = None\n",
    "\n",
    "    # method to get the data\n",
    "    def get_data(self):\n",
    "        return self.data\n",
    "\n",
    "    # method to get next node\n",
    "    def get_next(self):\n",
    "        return self.next\n",
    "    \n",
    "    # method to set data\n",
    "    def set_data(self, new_data):\n",
    "        self.data = new_data\n",
    "\n",
    "    # method to set pointer to next node\n",
    "    def set_next(self, new_next):\n",
    "        self.next = new_next"
   ]
  },
  {
   "cell_type": "code",
   "execution_count": 2,
   "metadata": {},
   "outputs": [],
   "source": [
    "class OrderedList:\n",
    "    def __init__(self):\n",
    "         # this attribute is the head pointer initially set to point at null, there are no nodes yet\n",
    "        self.head = None\n",
    "\n",
    "    def is_empty(self):\n",
    "        # return boolean conditional on if the head pointer is pointed at null\n",
    "        return self.head == None\n",
    "\n",
    "    # method to get the size of the linked list\n",
    "    def size(self):\n",
    "        current = self.head\n",
    "        count = 0\n",
    "        # use a pointer to iterate thru the list and count the nodes, we know that the last node points to null\n",
    "        while current != None:\n",
    "            count = count + 1\n",
    "            # since we're pointing at a node we can use the get_next node method to move the current pointer over to the next node\n",
    "            current = current.get_next()\n",
    "        return count\n",
    "    \n",
    "    def remove(self, item):\n",
    "        current = self.head\n",
    "        previous = None\n",
    "        found = False\n",
    "        while not found:\n",
    "            if current.get_data() == item:\n",
    "                found = True\n",
    "            else:\n",
    "                previous = current\n",
    "                current = current.get_next()\n",
    "        if previous == None:\n",
    "            self.head = current.get_next()\n",
    "        else:\n",
    "            previous.set_next(current.get_next())\n",
    "\n",
    "    def search(self, item):\n",
    "        current = self.head\n",
    "        found = False\n",
    "        stop = False\n",
    "        while current != None and not found and not stop:\n",
    "            if current.get_data() == item:\n",
    "                found = True\n",
    "            else:\n",
    "                if current.get_data() > item:\n",
    "                    stop = True\n",
    "                else:\n",
    "                    current = current.get_next()\n",
    "        \n",
    "        return found\n"
   ]
  },
  {
   "cell_type": "code",
   "execution_count": null,
   "metadata": {},
   "outputs": [],
   "source": []
  }
 ],
 "metadata": {
  "kernelspec": {
   "display_name": "Python 3.9.12 ('base')",
   "language": "python",
   "name": "python3"
  },
  "language_info": {
   "codemirror_mode": {
    "name": "ipython",
    "version": 3
   },
   "file_extension": ".py",
   "mimetype": "text/x-python",
   "name": "python",
   "nbconvert_exporter": "python",
   "pygments_lexer": "ipython3",
   "version": "3.9.12"
  },
  "orig_nbformat": 4,
  "vscode": {
   "interpreter": {
    "hash": "40203b3ec892d21f304b904bd7441b754322a8b95cad2515f623282baa87ac4b"
   }
  }
 },
 "nbformat": 4,
 "nbformat_minor": 2
}
