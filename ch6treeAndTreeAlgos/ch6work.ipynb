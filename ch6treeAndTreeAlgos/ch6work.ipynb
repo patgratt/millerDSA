{
 "cells": [
  {
   "cell_type": "code",
   "execution_count": 10,
   "metadata": {},
   "outputs": [],
   "source": [
    "# list of lists representation\n",
    "\n",
    "my_tree1 = ['a', #root\n",
    "            ['b', #left subtree\n",
    "                ['d', [], []],\n",
    "                ['e', [], []] ],\n",
    "            ['c', #right subtree\n",
    "                ['f', [], []],\n",
    "                        [] ] \n",
    "           ]"
   ]
  },
  {
   "cell_type": "code",
   "execution_count": null,
   "metadata": {},
   "outputs": [],
   "source": [
    "# constructs a list with a root node and two empty sublists for the children\n",
    "def binary_tree(r):\n",
    "    return [r, [], []]\n",
    "\n",
    "    "
   ]
  }
 ],
 "metadata": {
  "kernelspec": {
   "display_name": "Python 3.9.12 ('base')",
   "language": "python",
   "name": "python3"
  },
  "language_info": {
   "codemirror_mode": {
    "name": "ipython",
    "version": 3
   },
   "file_extension": ".py",
   "mimetype": "text/x-python",
   "name": "python",
   "nbconvert_exporter": "python",
   "pygments_lexer": "ipython3",
   "version": "3.9.12"
  },
  "orig_nbformat": 4,
  "vscode": {
   "interpreter": {
    "hash": "40203b3ec892d21f304b904bd7441b754322a8b95cad2515f623282baa87ac4b"
   }
  }
 },
 "nbformat": 4,
 "nbformat_minor": 2
}
