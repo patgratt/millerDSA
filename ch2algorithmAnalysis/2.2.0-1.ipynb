{
 "cells": [
  {
   "cell_type": "markdown",
   "metadata": {},
   "source": [
    "Function that computes the sum of the first n numbers:"
   ]
  },
  {
   "cell_type": "code",
   "execution_count": 1,
   "metadata": {},
   "outputs": [
    {
     "name": "stdout",
     "output_type": "stream",
     "text": [
      "(10, 2.86102294921875e-06)\n"
     ]
    }
   ],
   "source": [
    "import time\n",
    "\n",
    "def sum_of_n(n):\n",
    "    start = time.time()\n",
    "\n",
    "    the_sum = 0\n",
    "    for i in range(1, n+1):\n",
    "        the_sum = the_sum + i\n",
    "\n",
    "    end = time.time()\n",
    "\n",
    "    return the_sum, end-start\n",
    "\n",
    "print(sum_of_n(4))"
   ]
  },
  {
   "cell_type": "code",
   "execution_count": 9,
   "metadata": {},
   "outputs": [
    {
     "name": "stdout",
     "output_type": "stream",
     "text": [
      "Sum is 50005000. Time required = 0.000482 seconds\n",
      "Sum is 50005000. Time required = 0.000653 seconds\n",
      "Sum is 50005000. Time required = 0.000535 seconds\n",
      "Sum is 50005000. Time required = 0.000511 seconds\n",
      "Sum is 50005000. Time required = 0.000538 seconds\n"
     ]
    }
   ],
   "source": [
    "for i in range(5):\n",
    "    print(\"Sum is %d. Time required = %f seconds\" % sum_of_n(10000))"
   ]
  },
  {
   "cell_type": "code",
   "execution_count": 10,
   "metadata": {},
   "outputs": [
    {
     "name": "stdout",
     "output_type": "stream",
     "text": [
      "Sum is 500000500000. Time required = 0.059602 seconds\n",
      "Sum is 500000500000. Time required = 0.058891 seconds\n",
      "Sum is 500000500000. Time required = 0.057838 seconds\n",
      "Sum is 500000500000. Time required = 0.057525 seconds\n",
      "Sum is 500000500000. Time required = 0.058526 seconds\n"
     ]
    }
   ],
   "source": [
    "for i in range(5):\n",
    "    print(\"Sum is %d. Time required = %f seconds\" % sum_of_n(1000000))"
   ]
  },
  {
   "cell_type": "markdown",
   "metadata": {},
   "source": [
    "Self Check"
   ]
  },
  {
   "cell_type": "code",
   "execution_count": null,
   "metadata": {},
   "outputs": [],
   "source": [
    "# O(n)\n",
    "\n",
    "def find_min1(A):\n",
    "\n",
    "    for i in range(A):\n",
    "        for j in range(A):\n",
    "            if A[j] > A[i]:\n"
   ]
  }
 ],
 "metadata": {
  "kernelspec": {
   "display_name": "Python 3.9.12 ('base')",
   "language": "python",
   "name": "python3"
  },
  "language_info": {
   "codemirror_mode": {
    "name": "ipython",
    "version": 3
   },
   "file_extension": ".py",
   "mimetype": "text/x-python",
   "name": "python",
   "nbconvert_exporter": "python",
   "pygments_lexer": "ipython3",
   "version": "3.9.12"
  },
  "orig_nbformat": 4,
  "vscode": {
   "interpreter": {
    "hash": "40203b3ec892d21f304b904bd7441b754322a8b95cad2515f623282baa87ac4b"
   }
  }
 },
 "nbformat": 4,
 "nbformat_minor": 2
}
